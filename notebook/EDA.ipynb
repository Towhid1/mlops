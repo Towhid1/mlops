{
 "cells": [
  {
   "attachments": {},
   "cell_type": "markdown",
   "id": "d6996420",
   "metadata": {
    "papermill": {
     "duration": 0.028464,
     "end_time": "2022-09-04T15:39:20.238857",
     "exception": false,
     "start_time": "2022-09-04T15:39:20.210393",
     "status": "completed"
    },
    "tags": []
   },
   "source": [
    "\n",
    "### About Dataset\n",
    "\n",
    "Dataset contains information about flight booking options from the website Easemytrip for flight travel between India's top 6 metro cities. There are 300261 datapoints and 11 features in the cleaned dataset. Data was collected for 50 days, from February 11th to March 31st, 2022. Data source was secondary data and was collected from Ease my trip website.\n",
    "\n",
    "\n",
    "### Features\n",
    "\n",
    "The various features of the cleaned dataset are explained below:\n",
    "1. *Airline*: The name of the airline company is stored in the airline column. It is a categorical feature having 6 different airlines.\n",
    "2. *Flight*: Flight stores information regarding the plane's flight code. It is a categorical feature.\n",
    "3. *Source City*: City from which the flight takes off. It is a categorical feature having 6 unique cities.\n",
    "4. *Departure Time*: This is a derived categorical feature obtained created by grouping time periods into bins. It stores information about the departure time and have 6 unique time labels.\n",
    "5. *Stops*: A categorical feature with 3 distinct values that stores the number of stops between the source and destination cities.\n",
    "6. *Arrival Time*: This is a derived categorical feature created by grouping time intervals into bins. It has six distinct time labels and keeps information about the arrival time.\n",
    "7. *Destination City*: City where the flight will land. It is a categorical feature having 6 unique cities.\n",
    "8. *Class*: A categorical feature that contains information on seat class; it has two distinct values: Business and Economy.\n",
    "9. *Duration*: A continuous feature that displays the overall amount of time it takes to travel between cities in hours.\n",
    "10. *Days Left*: This is a derived characteristic that is calculated by subtracting the trip date by the booking date.\n",
    "11. *Price*: Target variable stores information of the ticket price."
   ]
  },
  {
   "cell_type": "code",
   "execution_count": 2,
   "id": "aed39182",
   "metadata": {
    "execution": {
     "iopub.execute_input": "2022-09-04T15:39:20.399481Z",
     "iopub.status.busy": "2022-09-04T15:39:20.399000Z",
     "iopub.status.idle": "2022-09-04T15:39:22.265037Z",
     "shell.execute_reply": "2022-09-04T15:39:22.264067Z"
    },
    "papermill": {
     "duration": 1.897319,
     "end_time": "2022-09-04T15:39:22.267883",
     "exception": false,
     "start_time": "2022-09-04T15:39:20.370564",
     "status": "completed"
    },
    "tags": []
   },
   "outputs": [],
   "source": [
    "import pandas as pd\n",
    "import numpy as np\n",
    "import seaborn as sns\n",
    "import matplotlib.pyplot as plt\n",
    "from scipy.stats import yeojohnson\n",
    "\n",
    "sns.set_style(\"whitegrid\")"
   ]
  },
  {
   "cell_type": "code",
   "execution_count": 3,
   "id": "1576c5f5",
   "metadata": {},
   "outputs": [
    {
     "data": {
      "text/html": [
       "<div>\n",
       "<style scoped>\n",
       "    .dataframe tbody tr th:only-of-type {\n",
       "        vertical-align: middle;\n",
       "    }\n",
       "\n",
       "    .dataframe tbody tr th {\n",
       "        vertical-align: top;\n",
       "    }\n",
       "\n",
       "    .dataframe thead th {\n",
       "        text-align: right;\n",
       "    }\n",
       "</style>\n",
       "<table border=\"1\" class=\"dataframe\">\n",
       "  <thead>\n",
       "    <tr style=\"text-align: right;\">\n",
       "      <th></th>\n",
       "      <th>airline</th>\n",
       "      <th>flight</th>\n",
       "      <th>source_city</th>\n",
       "      <th>departure_time</th>\n",
       "      <th>stops</th>\n",
       "      <th>arrival_time</th>\n",
       "      <th>destination_city</th>\n",
       "      <th>class</th>\n",
       "      <th>duration</th>\n",
       "      <th>days_left</th>\n",
       "      <th>price</th>\n",
       "    </tr>\n",
       "  </thead>\n",
       "  <tbody>\n",
       "    <tr>\n",
       "      <th>0</th>\n",
       "      <td>SpiceJet</td>\n",
       "      <td>SG-8709</td>\n",
       "      <td>Delhi</td>\n",
       "      <td>Evening</td>\n",
       "      <td>zero</td>\n",
       "      <td>Night</td>\n",
       "      <td>Mumbai</td>\n",
       "      <td>Economy</td>\n",
       "      <td>2.70</td>\n",
       "      <td>1</td>\n",
       "      <td>5953</td>\n",
       "    </tr>\n",
       "    <tr>\n",
       "      <th>1</th>\n",
       "      <td>SpiceJet</td>\n",
       "      <td>SG-8157</td>\n",
       "      <td>Delhi</td>\n",
       "      <td>Early_Morning</td>\n",
       "      <td>zero</td>\n",
       "      <td>Morning</td>\n",
       "      <td>Mumbai</td>\n",
       "      <td>Economy</td>\n",
       "      <td>2.33</td>\n",
       "      <td>1</td>\n",
       "      <td>5953</td>\n",
       "    </tr>\n",
       "    <tr>\n",
       "      <th>2</th>\n",
       "      <td>AirAsia</td>\n",
       "      <td>I5-764</td>\n",
       "      <td>Delhi</td>\n",
       "      <td>Early_Morning</td>\n",
       "      <td>zero</td>\n",
       "      <td>Early_Morning</td>\n",
       "      <td>Mumbai</td>\n",
       "      <td>Economy</td>\n",
       "      <td>2.17</td>\n",
       "      <td>1</td>\n",
       "      <td>5956</td>\n",
       "    </tr>\n",
       "    <tr>\n",
       "      <th>3</th>\n",
       "      <td>Vistara</td>\n",
       "      <td>UK-995</td>\n",
       "      <td>Delhi</td>\n",
       "      <td>Morning</td>\n",
       "      <td>zero</td>\n",
       "      <td>Afternoon</td>\n",
       "      <td>Mumbai</td>\n",
       "      <td>Economy</td>\n",
       "      <td>2.25</td>\n",
       "      <td>1</td>\n",
       "      <td>5955</td>\n",
       "    </tr>\n",
       "    <tr>\n",
       "      <th>4</th>\n",
       "      <td>Vistara</td>\n",
       "      <td>UK-963</td>\n",
       "      <td>Delhi</td>\n",
       "      <td>Morning</td>\n",
       "      <td>zero</td>\n",
       "      <td>Morning</td>\n",
       "      <td>Mumbai</td>\n",
       "      <td>Economy</td>\n",
       "      <td>2.33</td>\n",
       "      <td>1</td>\n",
       "      <td>5955</td>\n",
       "    </tr>\n",
       "  </tbody>\n",
       "</table>\n",
       "</div>"
      ],
      "text/plain": [
       "    airline   flight source_city departure_time stops   arrival_time  \\\n",
       "0  SpiceJet  SG-8709       Delhi        Evening  zero          Night   \n",
       "1  SpiceJet  SG-8157       Delhi  Early_Morning  zero        Morning   \n",
       "2   AirAsia   I5-764       Delhi  Early_Morning  zero  Early_Morning   \n",
       "3   Vistara   UK-995       Delhi        Morning  zero      Afternoon   \n",
       "4   Vistara   UK-963       Delhi        Morning  zero        Morning   \n",
       "\n",
       "  destination_city    class  duration  days_left  price  \n",
       "0           Mumbai  Economy      2.70          1   5953  \n",
       "1           Mumbai  Economy      2.33          1   5953  \n",
       "2           Mumbai  Economy      2.17          1   5956  \n",
       "3           Mumbai  Economy      2.25          1   5955  \n",
       "4           Mumbai  Economy      2.33          1   5955  "
      ]
     },
     "execution_count": 3,
     "metadata": {},
     "output_type": "execute_result"
    }
   ],
   "source": [
    "df = pd.read_csv(\"data/Clean_Dataset.csv\", index_col=0)\n",
    "df.head()"
   ]
  },
  {
   "cell_type": "code",
   "execution_count": 4,
   "id": "a5d88e67",
   "metadata": {
    "execution": {
     "iopub.execute_input": "2022-09-04T15:39:24.426967Z",
     "iopub.status.busy": "2022-09-04T15:39:24.426215Z",
     "iopub.status.idle": "2022-09-04T15:39:24.537040Z",
     "shell.execute_reply": "2022-09-04T15:39:24.535733Z"
    },
    "papermill": {
     "duration": 0.141346,
     "end_time": "2022-09-04T15:39:24.539649",
     "exception": false,
     "start_time": "2022-09-04T15:39:24.398303",
     "status": "completed"
    },
    "tags": []
   },
   "outputs": [
    {
     "data": {
      "text/plain": [
       "airline             0\n",
       "flight              0\n",
       "source_city         0\n",
       "departure_time      0\n",
       "stops               0\n",
       "arrival_time        0\n",
       "destination_city    0\n",
       "class               0\n",
       "duration            0\n",
       "days_left           0\n",
       "price               0\n",
       "dtype: int64"
      ]
     },
     "execution_count": 4,
     "metadata": {},
     "output_type": "execute_result"
    }
   ],
   "source": [
    "# check missing value\n",
    "df.isnull().sum()"
   ]
  },
  {
   "cell_type": "code",
   "execution_count": 6,
   "id": "4e9cee29",
   "metadata": {},
   "outputs": [
    {
     "data": {
      "text/plain": [
       "0"
      ]
     },
     "execution_count": 6,
     "metadata": {},
     "output_type": "execute_result"
    }
   ],
   "source": [
    "# duplicate check\n",
    "df.duplicated().sum()"
   ]
  },
  {
   "attachments": {},
   "cell_type": "markdown",
   "id": "52966955",
   "metadata": {
    "papermill": {
     "duration": 0.026785,
     "end_time": "2022-09-04T15:39:24.593466",
     "exception": false,
     "start_time": "2022-09-04T15:39:24.566681",
     "status": "completed"
    },
    "tags": []
   },
   "source": [
    "There are no missing values."
   ]
  },
  {
   "cell_type": "code",
   "execution_count": 9,
   "id": "cc0a1669",
   "metadata": {
    "execution": {
     "iopub.execute_input": "2022-09-04T15:39:24.650068Z",
     "iopub.status.busy": "2022-09-04T15:39:24.649243Z",
     "iopub.status.idle": "2022-09-04T15:39:24.954241Z",
     "shell.execute_reply": "2022-09-04T15:39:24.953096Z"
    },
    "papermill": {
     "duration": 0.3363,
     "end_time": "2022-09-04T15:39:24.956821",
     "exception": false,
     "start_time": "2022-09-04T15:39:24.620521",
     "status": "completed"
    },
    "scrolled": true,
    "tags": []
   },
   "outputs": [
    {
     "data": {
      "text/html": [
       "<div>\n",
       "<style scoped>\n",
       "    .dataframe tbody tr th:only-of-type {\n",
       "        vertical-align: middle;\n",
       "    }\n",
       "\n",
       "    .dataframe tbody tr th {\n",
       "        vertical-align: top;\n",
       "    }\n",
       "\n",
       "    .dataframe thead th {\n",
       "        text-align: right;\n",
       "    }\n",
       "</style>\n",
       "<table border=\"1\" class=\"dataframe\">\n",
       "  <thead>\n",
       "    <tr style=\"text-align: right;\">\n",
       "      <th></th>\n",
       "      <th>count</th>\n",
       "      <th>unique</th>\n",
       "      <th>top</th>\n",
       "      <th>freq</th>\n",
       "      <th>mean</th>\n",
       "      <th>std</th>\n",
       "      <th>min</th>\n",
       "      <th>25%</th>\n",
       "      <th>50%</th>\n",
       "      <th>75%</th>\n",
       "      <th>max</th>\n",
       "    </tr>\n",
       "  </thead>\n",
       "  <tbody>\n",
       "    <tr>\n",
       "      <th>airline</th>\n",
       "      <td>300153</td>\n",
       "      <td>6</td>\n",
       "      <td>Vistara</td>\n",
       "      <td>127859</td>\n",
       "      <td>NaN</td>\n",
       "      <td>NaN</td>\n",
       "      <td>NaN</td>\n",
       "      <td>NaN</td>\n",
       "      <td>NaN</td>\n",
       "      <td>NaN</td>\n",
       "      <td>NaN</td>\n",
       "    </tr>\n",
       "    <tr>\n",
       "      <th>flight</th>\n",
       "      <td>300153</td>\n",
       "      <td>1561</td>\n",
       "      <td>UK-706</td>\n",
       "      <td>3235</td>\n",
       "      <td>NaN</td>\n",
       "      <td>NaN</td>\n",
       "      <td>NaN</td>\n",
       "      <td>NaN</td>\n",
       "      <td>NaN</td>\n",
       "      <td>NaN</td>\n",
       "      <td>NaN</td>\n",
       "    </tr>\n",
       "    <tr>\n",
       "      <th>source_city</th>\n",
       "      <td>300153</td>\n",
       "      <td>6</td>\n",
       "      <td>Delhi</td>\n",
       "      <td>61343</td>\n",
       "      <td>NaN</td>\n",
       "      <td>NaN</td>\n",
       "      <td>NaN</td>\n",
       "      <td>NaN</td>\n",
       "      <td>NaN</td>\n",
       "      <td>NaN</td>\n",
       "      <td>NaN</td>\n",
       "    </tr>\n",
       "    <tr>\n",
       "      <th>departure_time</th>\n",
       "      <td>300153</td>\n",
       "      <td>6</td>\n",
       "      <td>Morning</td>\n",
       "      <td>71146</td>\n",
       "      <td>NaN</td>\n",
       "      <td>NaN</td>\n",
       "      <td>NaN</td>\n",
       "      <td>NaN</td>\n",
       "      <td>NaN</td>\n",
       "      <td>NaN</td>\n",
       "      <td>NaN</td>\n",
       "    </tr>\n",
       "    <tr>\n",
       "      <th>stops</th>\n",
       "      <td>300153</td>\n",
       "      <td>3</td>\n",
       "      <td>one</td>\n",
       "      <td>250863</td>\n",
       "      <td>NaN</td>\n",
       "      <td>NaN</td>\n",
       "      <td>NaN</td>\n",
       "      <td>NaN</td>\n",
       "      <td>NaN</td>\n",
       "      <td>NaN</td>\n",
       "      <td>NaN</td>\n",
       "    </tr>\n",
       "    <tr>\n",
       "      <th>arrival_time</th>\n",
       "      <td>300153</td>\n",
       "      <td>6</td>\n",
       "      <td>Night</td>\n",
       "      <td>91538</td>\n",
       "      <td>NaN</td>\n",
       "      <td>NaN</td>\n",
       "      <td>NaN</td>\n",
       "      <td>NaN</td>\n",
       "      <td>NaN</td>\n",
       "      <td>NaN</td>\n",
       "      <td>NaN</td>\n",
       "    </tr>\n",
       "    <tr>\n",
       "      <th>destination_city</th>\n",
       "      <td>300153</td>\n",
       "      <td>6</td>\n",
       "      <td>Mumbai</td>\n",
       "      <td>59097</td>\n",
       "      <td>NaN</td>\n",
       "      <td>NaN</td>\n",
       "      <td>NaN</td>\n",
       "      <td>NaN</td>\n",
       "      <td>NaN</td>\n",
       "      <td>NaN</td>\n",
       "      <td>NaN</td>\n",
       "    </tr>\n",
       "    <tr>\n",
       "      <th>class</th>\n",
       "      <td>300153</td>\n",
       "      <td>2</td>\n",
       "      <td>Economy</td>\n",
       "      <td>206666</td>\n",
       "      <td>NaN</td>\n",
       "      <td>NaN</td>\n",
       "      <td>NaN</td>\n",
       "      <td>NaN</td>\n",
       "      <td>NaN</td>\n",
       "      <td>NaN</td>\n",
       "      <td>NaN</td>\n",
       "    </tr>\n",
       "    <tr>\n",
       "      <th>duration</th>\n",
       "      <td>300153.0</td>\n",
       "      <td>NaN</td>\n",
       "      <td>NaN</td>\n",
       "      <td>NaN</td>\n",
       "      <td>12.221023</td>\n",
       "      <td>7.191995</td>\n",
       "      <td>0.83</td>\n",
       "      <td>6.83</td>\n",
       "      <td>11.25</td>\n",
       "      <td>16.17</td>\n",
       "      <td>49.83</td>\n",
       "    </tr>\n",
       "    <tr>\n",
       "      <th>days_left</th>\n",
       "      <td>300153.0</td>\n",
       "      <td>NaN</td>\n",
       "      <td>NaN</td>\n",
       "      <td>NaN</td>\n",
       "      <td>26.004751</td>\n",
       "      <td>13.561004</td>\n",
       "      <td>1.0</td>\n",
       "      <td>15.0</td>\n",
       "      <td>26.0</td>\n",
       "      <td>38.0</td>\n",
       "      <td>49.0</td>\n",
       "    </tr>\n",
       "    <tr>\n",
       "      <th>price</th>\n",
       "      <td>300153.0</td>\n",
       "      <td>NaN</td>\n",
       "      <td>NaN</td>\n",
       "      <td>NaN</td>\n",
       "      <td>20889.660523</td>\n",
       "      <td>22697.767366</td>\n",
       "      <td>1105.0</td>\n",
       "      <td>4783.0</td>\n",
       "      <td>7425.0</td>\n",
       "      <td>42521.0</td>\n",
       "      <td>123071.0</td>\n",
       "    </tr>\n",
       "  </tbody>\n",
       "</table>\n",
       "</div>"
      ],
      "text/plain": [
       "                     count unique      top    freq          mean  \\\n",
       "airline             300153      6  Vistara  127859           NaN   \n",
       "flight              300153   1561   UK-706    3235           NaN   \n",
       "source_city         300153      6    Delhi   61343           NaN   \n",
       "departure_time      300153      6  Morning   71146           NaN   \n",
       "stops               300153      3      one  250863           NaN   \n",
       "arrival_time        300153      6    Night   91538           NaN   \n",
       "destination_city    300153      6   Mumbai   59097           NaN   \n",
       "class               300153      2  Economy  206666           NaN   \n",
       "duration          300153.0    NaN      NaN     NaN     12.221023   \n",
       "days_left         300153.0    NaN      NaN     NaN     26.004751   \n",
       "price             300153.0    NaN      NaN     NaN  20889.660523   \n",
       "\n",
       "                           std     min     25%     50%      75%       max  \n",
       "airline                    NaN     NaN     NaN     NaN      NaN       NaN  \n",
       "flight                     NaN     NaN     NaN     NaN      NaN       NaN  \n",
       "source_city                NaN     NaN     NaN     NaN      NaN       NaN  \n",
       "departure_time             NaN     NaN     NaN     NaN      NaN       NaN  \n",
       "stops                      NaN     NaN     NaN     NaN      NaN       NaN  \n",
       "arrival_time               NaN     NaN     NaN     NaN      NaN       NaN  \n",
       "destination_city           NaN     NaN     NaN     NaN      NaN       NaN  \n",
       "class                      NaN     NaN     NaN     NaN      NaN       NaN  \n",
       "duration              7.191995    0.83    6.83   11.25    16.17     49.83  \n",
       "days_left            13.561004     1.0    15.0    26.0     38.0      49.0  \n",
       "price             22697.767366  1105.0  4783.0  7425.0  42521.0  123071.0  "
      ]
     },
     "execution_count": 9,
     "metadata": {},
     "output_type": "execute_result"
    }
   ],
   "source": [
    "df.describe(include='all').T"
   ]
  },
  {
   "attachments": {},
   "cell_type": "markdown",
   "id": "16e7c151",
   "metadata": {},
   "source": [
    "### Let's check distribution-"
   ]
  },
  {
   "cell_type": "code",
   "execution_count": 10,
   "id": "d148ddb1",
   "metadata": {
    "execution": {
     "iopub.execute_input": "2022-09-04T15:39:25.013477Z",
     "iopub.status.busy": "2022-09-04T15:39:25.012619Z",
     "iopub.status.idle": "2022-09-04T15:39:26.892002Z",
     "shell.execute_reply": "2022-09-04T15:39:26.890783Z"
    },
    "papermill": {
     "duration": 1.910575,
     "end_time": "2022-09-04T15:39:26.894557",
     "exception": false,
     "start_time": "2022-09-04T15:39:24.983982",
     "status": "completed"
    },
    "scrolled": true,
    "tags": []
   },
   "outputs": [
    {
     "data": {
      "image/png": "[encoded data removed]",
      "text/plain": [
       "<Figure size 700x400 with 1 Axes>"
      ]
     },
     "metadata": {},
     "output_type": "display_data"
    }
   ],
   "source": [
    "plt.figure(figsize = (7, 4))\n",
    "sns.histplot(x ='price', data = df, kde = True)\n",
    "plt.show()"
   ]
  },
  {
   "cell_type": "code",
   "execution_count": 11,
   "id": "e4e427f2",
   "metadata": {},
   "outputs": [
    {
     "data": {
      "image/png": "[encoded data removed]",
      "text/plain": [
       "<Figure size 700x400 with 1 Axes>"
      ]
     },
     "metadata": {},
     "output_type": "display_data"
    }
   ],
   "source": [
    "plt.figure(figsize = (7,4))\n",
    "sns.histplot(x = 'price', data = df[df['class'] == \"Economy\"], kde = True)\n",
    "plt.show()"
   ]
  },
  {
   "cell_type": "code",
   "execution_count": 12,
   "id": "be31cb51",
   "metadata": {},
   "outputs": [
    {
     "data": {
      "image/png": "[encoded data removed]",
      "text/plain": [
       "<Figure size 700x400 with 1 Axes>"
      ]
     },
     "metadata": {},
     "output_type": "display_data"
    }
   ],
   "source": [
    "plt.figure(figsize = (7,4))\n",
    "sns.histplot(x = 'price', data = df[df['class'] != \"Economy\"], kde = True)\n",
    "plt.show()"
   ]
  },
  {
   "cell_type": "code",
   "execution_count": 14,
   "id": "9e9c6fc4",
   "metadata": {},
   "outputs": [
    {
     "data": {
      "text/plain": [
       "(7425.0, 20889.660523133203)"
      ]
     },
     "execution_count": 14,
     "metadata": {},
     "output_type": "execute_result"
    }
   ],
   "source": [
    "df.price.median(), df.price.mean()"
   ]
  },
  {
   "attachments": {},
   "cell_type": "markdown",
   "id": "6ca98e43",
   "metadata": {
    "papermill": {
     "duration": 0.027508,
     "end_time": "2022-09-04T15:39:26.949738",
     "exception": false,
     "start_time": "2022-09-04T15:39:26.922230",
     "status": "completed"
    },
    "tags": []
   },
   "source": [
    "Even though the mean is around 20000, we can see here that the median is approximately 7400."
   ]
  },
  {
   "cell_type": "code",
   "execution_count": 15,
   "id": "e7625971",
   "metadata": {},
   "outputs": [
    {
     "data": {
      "image/png": "[encoded data removed]",
      "text/plain": [
       "<Figure size 1700x2000 with 7 Axes>"
      ]
     },
     "metadata": {},
     "output_type": "display_data"
    }
   ],
   "source": [
    "# Visualizations of categoric features with countplot\n",
    "plt.figure(figsize=(17,20))\n",
    "\n",
    "plt.subplot(4, 2, 1)\n",
    "sns.countplot(x=df[\"airline\"], data=df)\n",
    "plt.title(\"Frequency of Airline\")\n",
    "\n",
    "plt.subplot(4, 2, 2)\n",
    "sns.countplot(x=df[\"source_city\"], data=df)\n",
    "plt.title(\"Frequency of Source City\")\n",
    "\n",
    "plt.subplot(4, 2, 3)\n",
    "sns.countplot(x=df[\"departure_time\"], data=df)\n",
    "plt.title(\"Frequency of Departure Time\")\n",
    "\n",
    "plt.subplot(4, 2, 4)\n",
    "sns.countplot(x=df[\"stops\"], data=df)\n",
    "plt.title(\"Frequency of Stops\")\n",
    "\n",
    "plt.subplot(4, 2, 5)\n",
    "sns.countplot(x=df[\"arrival_time\"], data=df)\n",
    "plt.title(\"Frequency of Arrival Time\")\n",
    "\n",
    "plt.subplot(4, 2, 6)\n",
    "sns.countplot(x=df[\"destination_city\"], data=df)\n",
    "plt.title(\"Frequency of Destination City\")\n",
    "\n",
    "plt.subplot(4, 2, 7)\n",
    "sns.countplot(x=df[\"class\"], data=df)\n",
    "plt.title(\"Class Frequency\")\n",
    "\n",
    "plt.show()"
   ]
  },
  {
   "attachments": {},
   "cell_type": "markdown",
   "id": "3acfaa37",
   "metadata": {
    "papermill": {
     "duration": 0.027537,
     "end_time": "2022-09-04T15:39:27.005499",
     "exception": false,
     "start_time": "2022-09-04T15:39:26.977962",
     "status": "completed"
    },
    "tags": []
   },
   "source": [
    "\n",
    "\n",
    "### How does the ticket price vary between Economy and Business class?"
   ]
  },
  {
   "attachments": {},
   "cell_type": "markdown",
   "id": "f03b001c",
   "metadata": {
    "papermill": {
     "duration": 0.02726,
     "end_time": "2022-09-04T15:39:27.060596",
     "exception": false,
     "start_time": "2022-09-04T15:39:27.033336",
     "status": "completed"
    },
    "tags": []
   },
   "source": [
    "To visualize the difference between the two kind of tickets, I will plot the prices for the two prices for both business and economy tickets for the different companies."
   ]
  },
  {
   "cell_type": "code",
   "execution_count": null,
   "id": "8a951d3f",
   "metadata": {
    "execution": {
     "iopub.execute_input": "2022-09-04T15:39:27.118958Z",
     "iopub.status.busy": "2022-09-04T15:39:27.118529Z",
     "iopub.status.idle": "2022-09-04T15:39:31.574748Z",
     "shell.execute_reply": "2022-09-04T15:39:31.573757Z"
    },
    "papermill": {
     "duration": 4.48866,
     "end_time": "2022-09-04T15:39:31.577498",
     "exception": false,
     "start_time": "2022-09-04T15:39:27.088838",
     "status": "completed"
    },
    "tags": []
   },
   "outputs": [],
   "source": [
    "plt.figure(figsize=(20, 5))\n",
    "sns.barplot(x='airline', y='price', hue=\"class\",\n",
    "            data=df.sort_values(\"price\")\n",
    "            )\n",
    "plt.show()"
   ]
  },
  {
   "attachments": {},
   "cell_type": "markdown",
   "id": "3b1190d6",
   "metadata": {
    "papermill": {
     "duration": 0.028757,
     "end_time": "2022-09-04T15:39:31.635239",
     "exception": false,
     "start_time": "2022-09-04T15:39:31.606482",
     "status": "completed"
    },
    "tags": []
   },
   "source": [
    "📌 Business flights are only available in two companies: Air India and Vistara. Also, there is a big gap between the prices in the two class that reaches almost 5 times the price of Economy for Business tickets."
   ]
  },
  {
   "attachments": {},
   "cell_type": "markdown",
   "id": "e00c74f3",
   "metadata": {
    "papermill": {
     "duration": 0.03029,
     "end_time": "2022-09-04T15:39:31.695374",
     "exception": false,
     "start_time": "2022-09-04T15:39:31.665084",
     "status": "completed"
    },
    "tags": []
   },
   "source": [
    "### Does price vary with Airlines?"
   ]
  },
  {
   "attachments": {},
   "cell_type": "markdown",
   "id": "3af6e91d",
   "metadata": {
    "papermill": {
     "duration": 0.02844,
     "end_time": "2022-09-04T15:39:31.753191",
     "exception": false,
     "start_time": "2022-09-04T15:39:31.724751",
     "status": "completed"
    },
    "tags": []
   },
   "source": [
    "To compare the prices between the companies we will only compare the same kind of tickets since the previous question showed that the class has a big impact on the final price."
   ]
  },
  {
   "cell_type": "code",
   "execution_count": null,
   "id": "ac2a105b",
   "metadata": {
    "execution": {
     "iopub.execute_input": "2022-09-04T15:39:31.812834Z",
     "iopub.status.busy": "2022-09-04T15:39:31.812448Z",
     "iopub.status.idle": "2022-09-04T15:39:33.648651Z",
     "shell.execute_reply": "2022-09-04T15:39:33.647456Z"
    },
    "papermill": {
     "duration": 1.869065,
     "end_time": "2022-09-04T15:39:33.651594",
     "exception": false,
     "start_time": "2022-09-04T15:39:31.782529",
     "status": "completed"
    },
    "tags": []
   },
   "outputs": [],
   "source": [
    "fig, axs = plt.subplots(1, 2, gridspec_kw={'width_ratios': [6, 3]}, figsize=(25, 12))\n",
    "\n",
    "sns.violinplot(y = \"price\", x = \"airline\",\n",
    "               data = df.loc[df[\"class\"]=='Economy'].sort_values(\"price\", ascending = False),\n",
    "               kind=\"boxen\", ax=axs[0])\n",
    "axs[0].set_title(\"Airline prices based on companies for economy tickets\",fontsize=20)\n",
    "\n",
    "sns.violinplot(y = \"price\", x = \"airline\",\n",
    "               data = df.loc[df[\"class\"]=='Business'].sort_values(\"price\", ascending = False),\n",
    "               kind=\"boxen\", ax=axs[1])\n",
    "axs[1].set_title(\"Airline prices based on companies for business tickets\",fontsize=20)\n",
    "plt.show()"
   ]
  },
  {
   "attachments": {},
   "cell_type": "markdown",
   "id": "3629088b",
   "metadata": {
    "papermill": {
     "duration": 0.029659,
     "end_time": "2022-09-04T15:39:33.711802",
     "exception": false,
     "start_time": "2022-09-04T15:39:33.682143",
     "status": "completed"
    },
    "tags": []
   },
   "source": [
    " 📌 There are slight differences between each companies on this graph, AirAsia seems to have the cheapest flights when Air India and Vistara are more expensive. However it looks like Vistara's business tickets are a little more expensive than the Air India's ones."
   ]
  },
  {
   "attachments": {},
   "cell_type": "markdown",
   "id": "3fa422c4",
   "metadata": {
    "papermill": {
     "duration": 0.029883,
     "end_time": "2022-09-04T15:39:33.772099",
     "exception": false,
     "start_time": "2022-09-04T15:39:33.742216",
     "status": "completed"
    },
    "tags": []
   },
   "source": [
    "\n",
    "\n",
    "### How is the price affected when tickets are bought in just 1 or 2 days before departure?"
   ]
  },
  {
   "attachments": {},
   "cell_type": "markdown",
   "id": "47782716",
   "metadata": {
    "papermill": {
     "duration": 0.029882,
     "end_time": "2022-09-04T15:39:33.832283",
     "exception": false,
     "start_time": "2022-09-04T15:39:33.802401",
     "status": "completed"
    },
    "tags": []
   },
   "source": [
    "To visualize how the prices changes depending on the number of days left, I will calculate the average price depending on the days left, to try to understand a pattern in the curve."
   ]
  },
  {
   "cell_type": "code",
   "execution_count": null,
   "id": "f323ee02",
   "metadata": {},
   "outputs": [],
   "source": [
    "df_temp = df.groupby(['days_left'])['price'].mean().reset_index()\n",
    "df_temp.head()"
   ]
  },
  {
   "cell_type": "code",
   "execution_count": null,
   "id": "c559759e",
   "metadata": {
    "execution": {
     "iopub.execute_input": "2022-09-04T15:39:33.895376Z",
     "iopub.status.busy": "2022-09-04T15:39:33.894199Z",
     "iopub.status.idle": "2022-09-04T15:39:34.185254Z",
     "shell.execute_reply": "2022-09-04T15:39:34.184394Z"
    },
    "papermill": {
     "duration": 0.324813,
     "end_time": "2022-09-04T15:39:34.187454",
     "exception": false,
     "start_time": "2022-09-04T15:39:33.862641",
     "status": "completed"
    },
    "tags": []
   },
   "outputs": [],
   "source": [
    "plt.figure(figsize=(15,6))\n",
    "ax = sns.scatterplot(x=\"days_left\",\n",
    "                     y=\"price\", data=df_temp)\n",
    "ax.set_title(\"Average prizes depending on the days left\",fontsize=15)\n",
    "plt.show()"
   ]
  },
  {
   "attachments": {},
   "cell_type": "markdown",
   "id": "ddda4894",
   "metadata": {
    "papermill": {
     "duration": 0.030769,
     "end_time": "2022-09-04T15:39:34.249646",
     "exception": false,
     "start_time": "2022-09-04T15:39:34.218877",
     "status": "completed"
    },
    "tags": []
   },
   "source": [
    "It is possible to see two different curves on this graph, the first one, stable between 50 and 20 days before the flight, and a positive monotone curve between 20 and 2 days before."
   ]
  },
  {
   "cell_type": "code",
   "execution_count": null,
   "id": "04d99b5d",
   "metadata": {
    "execution": {
     "iopub.execute_input": "2022-09-04T15:39:34.314609Z",
     "iopub.status.busy": "2022-09-04T15:39:34.314024Z",
     "iopub.status.idle": "2022-09-04T15:39:34.796434Z",
     "shell.execute_reply": "2022-09-04T15:39:34.795643Z"
    },
    "papermill": {
     "duration": 0.517591,
     "end_time": "2022-09-04T15:39:34.798641",
     "exception": false,
     "start_time": "2022-09-04T15:39:34.281050",
     "status": "completed"
    },
    "scrolled": true,
    "tags": []
   },
   "outputs": [],
   "source": [
    "plt.figure(figsize=(15,6)).suptitle('Airline prices based on days left before buying the ticket', fontsize=16)\n",
    "ax = plt.axes()\n",
    "sns.regplot(x=df_temp.loc[df_temp[\"days_left\"]==1].days_left,\n",
    "            y=df_temp.loc[df_temp[\"days_left\"]==1].price, fit_reg=False, ax=ax)\n",
    "\n",
    "sns.regplot(x=df_temp.loc[(df_temp[\"days_left\"]>1)&(df_temp[\"days_left\"]<20)].days_left,\n",
    "            y=df_temp.loc[(df_temp[\"days_left\"]>1)&(df_temp[\"days_left\"]<20)].price, fit_reg=True, ax=ax)\n",
    "\n",
    "sns.regplot(x=df_temp.loc[df_temp[\"days_left\"]>=20].days_left,\n",
    "            y=df_temp.loc[df_temp[\"days_left\"]>=20].price, fit_reg=True, ax=ax)\n",
    "plt.show()"
   ]
  },
  {
   "attachments": {},
   "cell_type": "markdown",
   "id": "cb38289e",
   "metadata": {
    "papermill": {
     "duration": 0.032491,
     "end_time": "2022-09-04T15:39:34.863433",
     "exception": false,
     "start_time": "2022-09-04T15:39:34.830942",
     "status": "completed"
    },
    "tags": []
   },
   "source": [
    "A pattern is clearly visible in the way prices evolve depending on the days left."
   ]
  },
  {
   "attachments": {},
   "cell_type": "markdown",
   "id": "6494aa5a",
   "metadata": {
    "papermill": {
     "duration": 0.032008,
     "end_time": "2022-09-04T15:39:34.928209",
     "exception": false,
     "start_time": "2022-09-04T15:39:34.896201",
     "status": "completed"
    },
    "tags": []
   },
   "source": [
    "📌 The graph highlights how the prices rise slowly and then drastically start rising 20 days before the flight, but fall just one day before the flight up to three times cheaper. This can be explain by the fact the companies want to fill their empty seats and thus lower the prices of the tickets to ensure the planes remains full."
   ]
  },
  {
   "attachments": {},
   "cell_type": "markdown",
   "id": "009b174b",
   "metadata": {
    "papermill": {
     "duration": 0.031919,
     "end_time": "2022-09-04T15:39:34.991879",
     "exception": false,
     "start_time": "2022-09-04T15:39:34.959960",
     "status": "completed"
    },
    "tags": []
   },
   "source": [
    "### Does the price change with the duration of the flight?"
   ]
  },
  {
   "attachments": {},
   "cell_type": "markdown",
   "id": "65378555",
   "metadata": {
    "papermill": {
     "duration": 0.032095,
     "end_time": "2022-09-04T15:39:35.056216",
     "exception": false,
     "start_time": "2022-09-04T15:39:35.024121",
     "status": "completed"
    },
    "tags": []
   },
   "source": [
    "Let's see how the duration of the flight may affect the final price."
   ]
  },
  {
   "cell_type": "code",
   "execution_count": null,
   "id": "5635dad7",
   "metadata": {
    "execution": {
     "iopub.execute_input": "2022-09-04T15:39:35.123784Z",
     "iopub.status.busy": "2022-09-04T15:39:35.123057Z",
     "iopub.status.idle": "2022-09-04T15:39:35.410651Z",
     "shell.execute_reply": "2022-09-04T15:39:35.409451Z"
    },
    "papermill": {
     "duration": 0.324253,
     "end_time": "2022-09-04T15:39:35.413414",
     "exception": false,
     "start_time": "2022-09-04T15:39:35.089161",
     "status": "completed"
    },
    "tags": []
   },
   "outputs": [],
   "source": [
    "df_temp = df.groupby(['duration'])['price'].mean().reset_index()\n",
    "\n",
    "plt.figure(figsize=(15,6))\n",
    "ax = sns.scatterplot(x=\"duration\", y=\"price\", data=df_temp)\n",
    "ax.set_title(\"Average prizes depending on the duration\",fontsize=15)\n",
    "plt.show()"
   ]
  },
  {
   "cell_type": "code",
   "execution_count": null,
   "id": "7bb3353a",
   "metadata": {
    "execution": {
     "iopub.execute_input": "2022-09-04T15:39:35.483469Z",
     "iopub.status.busy": "2022-09-04T15:39:35.483062Z",
     "iopub.status.idle": "2022-09-04T15:39:36.002134Z",
     "shell.execute_reply": "2022-09-04T15:39:36.000711Z"
    },
    "papermill": {
     "duration": 0.556715,
     "end_time": "2022-09-04T15:39:36.004528",
     "exception": false,
     "start_time": "2022-09-04T15:39:35.447813",
     "status": "completed"
    },
    "tags": []
   },
   "outputs": [],
   "source": [
    "plt.figure(figsize=(15,6))\n",
    "ax = sns.scatterplot(x=\"duration\", y=\"price\", data=df_temp)\n",
    "ax.set_title(\"Average prizes depending on the duration\",fontsize=15)\n",
    "ax = sns.regplot(x=\"duration\", y=\"price\", data=df_temp, order=2)\n",
    "plt.show()"
   ]
  },
  {
   "attachments": {},
   "cell_type": "markdown",
   "id": "32346726",
   "metadata": {
    "papermill": {
     "duration": 0.033832,
     "end_time": "2022-09-04T15:39:36.073489",
     "exception": false,
     "start_time": "2022-09-04T15:39:36.039657",
     "status": "completed"
    },
    "tags": []
   },
   "source": [
    "📌 It is clear that here the relationship is not linear. The prices reaches a high price at a duration of 20 hours before lowering again.\n",
    "However some outliers seem to affect the regression curve ."
   ]
  },
  {
   "attachments": {},
   "cell_type": "markdown",
   "id": "cc0dc9aa",
   "metadata": {
    "papermill": {
     "duration": 0.034535,
     "end_time": "2022-09-04T15:39:36.143507",
     "exception": false,
     "start_time": "2022-09-04T15:39:36.108972",
     "status": "completed"
    },
    "tags": []
   },
   "source": [
    "\n",
    "\n",
    "### Does ticket price change based on the departure time and arrival time?"
   ]
  },
  {
   "cell_type": "code",
   "execution_count": null,
   "id": "5b813698",
   "metadata": {
    "execution": {
     "iopub.execute_input": "2022-09-04T15:39:36.217348Z",
     "iopub.status.busy": "2022-09-04T15:39:36.216956Z",
     "iopub.status.idle": "2022-09-04T15:39:37.097961Z",
     "shell.execute_reply": "2022-09-04T15:39:37.096762Z"
    },
    "papermill": {
     "duration": 0.920208,
     "end_time": "2022-09-04T15:39:37.100451",
     "exception": false,
     "start_time": "2022-09-04T15:39:36.180243",
     "status": "completed"
    },
    "tags": []
   },
   "outputs": [],
   "source": [
    "plt.figure(figsize = (18,8))\n",
    "plt.subplot(1,2,1)\n",
    "sns.boxplot(data=df, y=\"price\", x=\"departure_time\",showfliers=False)\n",
    "ax.set_title(\"Airline prices based on the departure time\",fontsize=15)\n",
    "\n",
    "plt.subplot(1,2,2)\n",
    "sns.boxplot(data=df, y=\"price\", x=\"arrival_time\",showfliers=False)\n",
    "ax.set_title(\"Airline prices based on the arrival time\",fontsize=15)\n",
    "plt.show()"
   ]
  },
  {
   "attachments": {},
   "cell_type": "markdown",
   "id": "53160c51",
   "metadata": {
    "papermill": {
     "duration": 0.035192,
     "end_time": "2022-09-04T15:39:37.172027",
     "exception": false,
     "start_time": "2022-09-04T15:39:37.136835",
     "status": "completed"
    },
    "tags": []
   },
   "source": [
    "📌 As expected, leaving at late night or arriving at late night remains the cheapest way to travel."
   ]
  },
  {
   "attachments": {},
   "cell_type": "markdown",
   "id": "408cce49",
   "metadata": {
    "papermill": {
     "duration": 0.035874,
     "end_time": "2022-09-04T15:39:37.243561",
     "exception": false,
     "start_time": "2022-09-04T15:39:37.207687",
     "status": "completed"
    },
    "tags": []
   },
   "source": [
    "### How the price changes with change in Source and Destination?"
   ]
  },
  {
   "attachments": {},
   "cell_type": "markdown",
   "id": "cbdee04b",
   "metadata": {
    "papermill": {
     "duration": 0.035299,
     "end_time": "2022-09-04T15:39:37.315058",
     "exception": false,
     "start_time": "2022-09-04T15:39:37.279759",
     "status": "completed"
    },
    "tags": []
   },
   "source": [
    "To answer this question, I will visualize the different prices for all the destinations as a departure and arrival destination."
   ]
  },
  {
   "cell_type": "code",
   "execution_count": null,
   "id": "a5ff3303",
   "metadata": {
    "execution": {
     "iopub.execute_input": "2022-09-04T15:39:37.389058Z",
     "iopub.status.busy": "2022-09-04T15:39:37.387968Z",
     "iopub.status.idle": "2022-09-04T15:39:43.355851Z",
     "shell.execute_reply": "2022-09-04T15:39:43.354945Z"
    },
    "papermill": {
     "duration": 6.007466,
     "end_time": "2022-09-04T15:39:43.358388",
     "exception": false,
     "start_time": "2022-09-04T15:39:37.350922",
     "status": "completed"
    },
    "tags": []
   },
   "outputs": [],
   "source": [
    "ax = sns.relplot(col=\"source_city\", y=\"price\",\n",
    "                 kind=\"line\",x='destination_city',\n",
    "                 data=df,col_wrap=3)\n",
    "\n",
    "ax.fig.subplots_adjust(top=0.9)\n",
    "ax.fig.suptitle('Airline prices based on the source and destination cities',fontsize=20)"
   ]
  },
  {
   "attachments": {},
   "cell_type": "markdown",
   "id": "4dbcd35b",
   "metadata": {
    "papermill": {
     "duration": 0.038871,
     "end_time": "2022-09-04T15:39:43.438243",
     "exception": false,
     "start_time": "2022-09-04T15:39:43.399372",
     "status": "completed"
    },
    "tags": []
   },
   "source": [
    "📌 On one hand, it seems that flight leaving from Delhi are often cheaper that from other source cities and the capital is also the cheapest deatination to go probably because as a capital cities, the airport is the biggest and proposes more flights. In an other hand, the prices are more or less similar and Hyderabad being the most expensive destination.\n"
   ]
  },
  {
   "attachments": {},
   "cell_type": "markdown",
   "id": "54285931",
   "metadata": {
    "papermill": {
     "duration": 0.038816,
     "end_time": "2022-09-04T15:39:43.516944",
     "exception": false,
     "start_time": "2022-09-04T15:39:43.478128",
     "status": "completed"
    },
    "tags": []
   },
   "source": [
    "### Does the number of stops influences the price?"
   ]
  },
  {
   "attachments": {},
   "cell_type": "markdown",
   "id": "c248e4f3",
   "metadata": {
    "papermill": {
     "duration": 0.039377,
     "end_time": "2022-09-04T15:39:43.594997",
     "exception": false,
     "start_time": "2022-09-04T15:39:43.555620",
     "status": "completed"
    },
    "tags": []
   },
   "source": [
    "Let's see how the number of stop may influence the final price."
   ]
  },
  {
   "cell_type": "code",
   "execution_count": null,
   "id": "36c0730c",
   "metadata": {
    "execution": {
     "iopub.execute_input": "2022-09-04T15:39:43.674127Z",
     "iopub.status.busy": "2022-09-04T15:39:43.673654Z",
     "iopub.status.idle": "2022-09-04T15:39:48.689078Z",
     "shell.execute_reply": "2022-09-04T15:39:48.687881Z"
    },
    "papermill": {
     "duration": 5.057913,
     "end_time": "2022-09-04T15:39:48.691669",
     "exception": false,
     "start_time": "2022-09-04T15:39:43.633756",
     "status": "completed"
    },
    "tags": []
   },
   "outputs": [],
   "source": [
    "fig, axs = plt.subplots (1, 2, gridspec_kw={'width_ratios': [5, 3]}, figsize=(25, 5))\n",
    "sns.barplot(y = \"price\", x = \"airline\",hue=\"stops\",data = df.loc[df[\"class\"]=='Economy'].sort_values(\"price\", ascending = False), ax=axs[0])\n",
    "axs[0].set_title(\"Airline prices based on the number of stops  for economy\",fontsize=20)\n",
    "\n",
    "sns.barplot(y = \"price\", x = \"airline\",hue=\"stops\",data = df.loc[df[\"class\"]=='Business'].sort_values(\"price\", ascending = False), ax=axs[1])\n",
    "axs[1].set_title(\"Airline prices based on the number of stops  for business\",fontsize=20)"
   ]
  },
  {
   "attachments": {},
   "cell_type": "markdown",
   "id": "83506cc1",
   "metadata": {
    "papermill": {
     "duration": 0.038476,
     "end_time": "2022-09-04T15:39:48.770577",
     "exception": false,
     "start_time": "2022-09-04T15:39:48.732101",
     "status": "completed"
    },
    "tags": []
   },
   "source": [
    "📌 It's clear that the more stops there are the more expensive the flight is except for AirAsia where the prices seems more constant. The behaviour and different analysis of AirAsia tend to show that it relates to a low cost company.\n"
   ]
  },
  {
   "attachments": {},
   "cell_type": "markdown",
   "id": "d720c32e",
   "metadata": {
    "papermill": {
     "duration": 0.039324,
     "end_time": "2022-09-04T15:39:48.849193",
     "exception": false,
     "start_time": "2022-09-04T15:39:48.809869",
     "status": "completed"
    },
    "tags": []
   },
   "source": [
    "### What variables influence most the price?"
   ]
  },
  {
   "cell_type": "code",
   "execution_count": null,
   "id": "e5a7e9c5",
   "metadata": {
    "execution": {
     "iopub.execute_input": "2022-09-04T15:39:48.931119Z",
     "iopub.status.busy": "2022-09-04T15:39:48.930212Z",
     "iopub.status.idle": "2022-09-04T15:39:48.937341Z",
     "shell.execute_reply": "2022-09-04T15:39:48.936529Z"
    },
    "papermill": {
     "duration": 0.050361,
     "end_time": "2022-09-04T15:39:48.939548",
     "exception": false,
     "start_time": "2022-09-04T15:39:48.889187",
     "status": "completed"
    },
    "tags": []
   },
   "outputs": [],
   "source": [
    "def preprocessing(df):\n",
    "    #Encode the ordinal variables \"stops\" and \"class\".\n",
    "    df[\"stops\"] = df[\"stops\"].replace({'zero':0,'one':1,'two_or_more':2}).astype(int)\n",
    "    df[\"class\"] = df[\"class\"].replace({'Economy':0,'Business':1}).astype(int)\n",
    "\n",
    "    #One-hot encoding for the cities, the times and the airlines.\n",
    "    dummies_variables = [\"airline\",\"source_city\",\"destination_city\",\"departure_time\",\"arrival_time\"]\n",
    "    dummies = pd.get_dummies(df[dummies_variables], drop_first= True)\n",
    "    df = pd.concat([df,dummies],axis=1)\n",
    "    df = df.drop([\"flight\",\"airline\",\"source_city\",\"destination_city\",\"departure_time\",\"arrival_time\"],axis=1)\n",
    "    return df"
   ]
  },
  {
   "cell_type": "code",
   "execution_count": null,
   "id": "455811fa",
   "metadata": {
    "execution": {
     "iopub.execute_input": "2022-09-04T15:39:49.020670Z",
     "iopub.status.busy": "2022-09-04T15:39:49.020082Z",
     "iopub.status.idle": "2022-09-04T15:39:49.596339Z",
     "shell.execute_reply": "2022-09-04T15:39:49.595124Z"
    },
    "papermill": {
     "duration": 0.619984,
     "end_time": "2022-09-04T15:39:49.599152",
     "exception": false,
     "start_time": "2022-09-04T15:39:48.979168",
     "status": "completed"
    },
    "tags": []
   },
   "outputs": [],
   "source": [
    "df_preprocessed = preprocessing(df)"
   ]
  },
  {
   "cell_type": "code",
   "execution_count": null,
   "id": "53e13129",
   "metadata": {},
   "outputs": [],
   "source": [
    "df_preprocessed.corr()"
   ]
  },
  {
   "attachments": {},
   "cell_type": "markdown",
   "id": "e180b142",
   "metadata": {
    "papermill": {
     "duration": 0.040046,
     "end_time": "2022-09-04T15:39:49.678953",
     "exception": false,
     "start_time": "2022-09-04T15:39:49.638907",
     "status": "completed"
    },
    "tags": []
   },
   "source": [
    "To visualize the linear importance of each variables on the target, I will plot a correlation matrix."
   ]
  },
  {
   "cell_type": "code",
   "execution_count": null,
   "id": "99766a46",
   "metadata": {
    "execution": {
     "iopub.execute_input": "2022-09-04T15:39:49.760231Z",
     "iopub.status.busy": "2022-09-04T15:39:49.759845Z",
     "iopub.status.idle": "2022-09-04T15:39:53.889254Z",
     "shell.execute_reply": "2022-09-04T15:39:53.888188Z"
    },
    "papermill": {
     "duration": 4.176772,
     "end_time": "2022-09-04T15:39:53.895640",
     "exception": false,
     "start_time": "2022-09-04T15:39:49.718868",
     "status": "completed"
    },
    "tags": []
   },
   "outputs": [],
   "source": [
    "plt.figure(figsize = (20, 18))\n",
    "sns.heatmap(df_preprocessed.corr(), annot = True,\n",
    "            vmin= -1.0, vmax= 1.0, center = 0, cmap = 'RdBu_r')\n",
    "plt.show()"
   ]
  },
  {
   "attachments": {},
   "cell_type": "markdown",
   "id": "ed035ad3",
   "metadata": {},
   "source": [
    "## Basic prediction without any tuning and feature engineering"
   ]
  },
  {
   "cell_type": "code",
   "execution_count": null,
   "id": "8a77cdfc",
   "metadata": {},
   "outputs": [],
   "source": [
    "X = df_preprocessed.copy()\n",
    "y = X.pop(\"price\")"
   ]
  },
  {
   "cell_type": "code",
   "execution_count": null,
   "id": "afd6499b",
   "metadata": {},
   "outputs": [],
   "source": [
    "from sklearn.model_selection import train_test_split\n",
    "\n",
    "x_train,x_test,y_train,y_test = train_test_split(X, y, random_state=1,\n",
    "                                                test_size=0.3, shuffle=True)"
   ]
  },
  {
   "cell_type": "code",
   "execution_count": null,
   "id": "70491297",
   "metadata": {},
   "outputs": [],
   "source": [
    "from sklearn.linear_model import LinearRegression\n",
    "# from xgboost import XGBRegressor\n",
    "from sklearn.neighbors import KNeighborsRegressor\n",
    "# from catboost import CatBoostRegressor\n",
    "from sklearn.metrics import mean_absolute_error\n",
    "\n",
    "models = {}\n",
    "models[\"LinearRegression\"]={\"model\":LinearRegression()}\n",
    "models[\"KNeighborsRegressor\"]={\"model\":KNeighborsRegressor()}\n",
    "# models[\"XGBRegressor\"]={\"model\":XGBRegressor()}\n",
    "# models[\"CatBoostRegressor\"]={\"model\":CatBoostRegressor()}\n",
    "\n"
   ]
  },
  {
   "cell_type": "code",
   "execution_count": null,
   "id": "ce09f54d",
   "metadata": {},
   "outputs": [],
   "source": [
    "models"
   ]
  },
  {
   "cell_type": "code",
   "execution_count": null,
   "metadata": {},
   "outputs": [],
   "source": [
    "for name, model in models.items():\n",
    "    trained_model = model[\"model\"].fit(x_train, y_train)\n",
    "    y_pred = trained_model.predict(x_test)\n",
    "    mae = mean_absolute_error(y_test, y_pred )\n",
    "    print(\"--- \"+name+\" ---\")\n",
    "    print(f\"mean_absolute_error: {mae}\")"
   ]
  },
  {
   "attachments": {},
   "cell_type": "markdown",
   "id": "f321b6be",
   "metadata": {},
   "source": [
    "# Quick data quality check"
   ]
  },
  {
   "cell_type": "code",
   "execution_count": null,
   "id": "739b16da",
   "metadata": {},
   "outputs": [],
   "source": [
    "df.head()"
   ]
  },
  {
   "cell_type": "code",
   "execution_count": null,
   "id": "cd6c98c7",
   "metadata": {},
   "outputs": [],
   "source": [
    "# check city name ok or not\n",
    "df.destination_city.unique()"
   ]
  },
  {
   "cell_type": "code",
   "execution_count": null,
   "id": "5d16e734",
   "metadata": {},
   "outputs": [],
   "source": [
    "# days left check\n",
    "df.days_left.unique()"
   ]
  },
  {
   "cell_type": "code",
   "execution_count": null,
   "id": "0ea87e91",
   "metadata": {},
   "outputs": [],
   "source": [
    "df[df['price'] <= 0]"
   ]
  },
  {
   "cell_type": "code",
   "execution_count": null,
   "id": "45383fc8",
   "metadata": {},
   "outputs": [],
   "source": [
    "# null value check\n",
    "df.isna().sum()"
   ]
  },
  {
   "cell_type": "code",
   "execution_count": null,
   "id": "55b71142",
   "metadata": {},
   "outputs": [],
   "source": [
    "# checking duplicate\n",
    "df.duplicated().sum()"
   ]
  },
  {
   "attachments": {},
   "cell_type": "markdown",
   "id": "e85e60dd",
   "metadata": {},
   "source": [
    "# Feature engneering"
   ]
  },
  {
   "cell_type": "code",
   "execution_count": null,
   "id": "ef49adfa",
   "metadata": {},
   "outputs": [],
   "source": [
    "df.head()"
   ]
  },
  {
   "cell_type": "code",
   "execution_count": null,
   "id": "ab35ee82",
   "metadata": {},
   "outputs": [],
   "source": [
    "#Encode the ordinal variables \"stops\" and \"class\".\n",
    "df[\"stops\"] = df[\"stops\"].replace({'zero':0,'one':1,'two_or_more':2}).astype(int)\n",
    "df[\"class\"] = df[\"class\"].replace({'Economy':0,'Business':1}).astype(int)\n",
    "df.head()"
   ]
  },
  {
   "cell_type": "code",
   "execution_count": null,
   "id": "980fc5bb",
   "metadata": {},
   "outputs": [],
   "source": [
    "#One-hot encoding for the cities, the times and the airlines.\n",
    "df_feature = df.copy()\n",
    "\n",
    "dummies_variables = [\"airline\",\"source_city\",\"destination_city\",\"departure_time\",\"arrival_time\"]\n",
    "\n",
    "dummies = pd.get_dummies(df_feature[dummies_variables])\n",
    "df_feature = pd.concat([df_feature, dummies], axis=1)\n",
    "df_feature = df_feature.drop([\"flight\",\"airline\",\"source_city\",\"destination_city\",\"departure_time\",\"arrival_time\"],axis=1)\n",
    "df_feature.head()"
   ]
  },
  {
   "cell_type": "code",
   "execution_count": null,
   "id": "7a24dc50",
   "metadata": {},
   "outputs": [],
   "source": [
    "for i in df.columns:\n",
    "    if df[i].nunique()> 10:\n",
    "        print(i, df[i].nunique())"
   ]
  },
  {
   "cell_type": "code",
   "execution_count": null,
   "id": "6e1dc106",
   "metadata": {},
   "outputs": [],
   "source": [
    "# Plot distribution\n",
    "plt.figure(figsize=(7, 10))\n",
    "plt.subplot(2, 1, 1)\n",
    "sns.histplot(df[\"duration\"], kde=True, bins=10)\n",
    "\n",
    "plt.subplot(2, 1, 2)\n",
    "sns.histplot(df[\"days_left\"], kde=True, bins=10)\n",
    "# Show the plot\n",
    "plt.show()"
   ]
  },
  {
   "cell_type": "code",
   "execution_count": null,
   "id": "4c53db6c",
   "metadata": {},
   "outputs": [],
   "source": [
    "from scipy.stats import yeojohnson\n",
    "\n",
    "# apply yeo-johnson for normal distribution\n",
    "# Plot distribution\n",
    "plt.figure(figsize=(7, 10))\n",
    "\n",
    "for idx, col in enumerate([\"duration\", \"days_left\"]):\n",
    "    y, lmbda = yeojohnson(df[col])\n",
    "    # df[col] = y\n",
    "    plt.subplot(2, 1, idx+1)\n",
    "    sns.histplot(y, kde=True, bins=10)\n",
    "\n",
    "# Show the plot\n",
    "plt.show()"
   ]
  },
  {
   "cell_type": "code",
   "execution_count": null,
   "id": "d92d192d",
   "metadata": {},
   "outputs": [],
   "source": [
    "from sklearn.neighbors import KNeighborsRegressor\n",
    "from sklearn.model_selection import train_test_split\n",
    "from sklearn.linear_model import LinearRegression\n",
    "# from xgboost import XGBRegressor\n",
    "# from catboost import CatBoostRegressor\n",
    "from sklearn.metrics import mean_absolute_error\n",
    "import mlflow\n",
    "from mlflow import log_metric, log_param, log_artifact\n",
    "import pickle\n",
    "\n",
    "\n",
    "def test_mae(df):\n",
    "    TRACKING_SERVER_HOST = 'localhost'\n",
    "    mlflow.set_tracking_uri(f\"http://{TRACKING_SERVER_HOST}:5000\")\n",
    "    mlflow.set_experiment('EDA_v1')\n",
    "    X = df.copy()\n",
    "    y = X.pop(\"price\")\n",
    "    x_train,x_test,y_train,y_test = train_test_split(X, y, random_state=1,\n",
    "                                                    test_size=0.3, shuffle=True)\n",
    "    models = {}\n",
    "    models[\"LinearRegression\"]={\"model\":LinearRegression()}\n",
    "    # models[\"KNeighborsRegressor\"]={\"model\":KNeighborsRegressor()}\n",
    "    # models[\"XGBRegressor\"]={\"model\":XGBRegressor()}\n",
    "    # models[\"CatBoostRegressor\"]={\"model\":CatBoostRegressor(verbose=0)}\n",
    "\n",
    "    for name, model in models.items():\n",
    "        # with mlflow.start_run():\n",
    "            log_param('model_name', name)\n",
    "            log_param('one-hot-encoding', True)\n",
    "            log_param('transformer', 'yeojhonson')\n",
    "            trained_model = model[\"model\"].fit(x_train, y_train)\n",
    "            y_pred = trained_model.predict(x_test)\n",
    "            mae = mean_absolute_error(y_test, y_pred )\n",
    "            log_metric('MAE', mae)\n",
    "            print(\"--- \"+name+\" ---\")\n",
    "            filename = f\"model/{name}\"\n",
    "            print(f\"mean_absolute_error: {mae}\")\n",
    "            # pickle.dump(trained_model, open(filename, 'wb'))\n",
    "            # log_artifact(filename)\n",
    "            model_info = mlflow.sklearn.log_model(trained_model, filename)\n",
    "            # Register the model\n",
    "            registered_model = mlflow.register_model(model_info.model_uri, filename)\n",
    "            mlflow.end_run()\n",
    "\n"
   ]
  },
  {
   "cell_type": "code",
   "execution_count": null,
   "id": "59b78b7d",
   "metadata": {},
   "outputs": [],
   "source": [
    "col = \"duration\"\n",
    "\n",
    "y, _ = yeojohnson(df_feature[col])\n",
    "df_feature[col] = y\n",
    "test_mae(df_feature)\n"
   ]
  },
  {
   "cell_type": "code",
   "execution_count": null,
   "id": "bc0a8df4",
   "metadata": {},
   "outputs": [],
   "source": [
    "import sklearn.preprocessing as preproc\n",
    "\n",
    "# Standardization\n",
    "cols = [\"duration\", \"days_left\"]\n",
    "# Standardization - note that by definition, some outputs will be negative\n",
    "df_feature[cols] = preproc.StandardScaler().fit_transform(df_feature[cols])\n",
    "# test\n",
    "test_mae(df_feature)"
   ]
  },
  {
   "cell_type": "code",
   "execution_count": null,
   "id": "d946ffd7",
   "metadata": {},
   "outputs": [],
   "source": [
    "cut_labels = ['One_day', '2_19', '20_50']\n",
    "cut_bins = [0, 1, 19, 50]\n",
    "\n",
    "df['days_left_binning'] = pd.cut(df['days_left'], bins=cut_bins, labels=cut_labels)\n",
    "df[[\"days_left_binning\", \"days_left\"]]"
   ]
  },
  {
   "cell_type": "code",
   "execution_count": null,
   "id": "543f62f6",
   "metadata": {},
   "outputs": [],
   "source": [
    "df_feature[\"days_left_binning\"] = df[\"days_left_binning\"]\n",
    "\n",
    "dummies = pd.get_dummies(df_feature['days_left_binning'])\n",
    "df_feature = pd.concat([df_feature, dummies],axis=1)\n",
    "df_feature = df_feature.drop([\"days_left_binning\"], axis=1)\n",
    "df_feature.head()\n"
   ]
  },
  {
   "cell_type": "code",
   "execution_count": null,
   "id": "6e151587",
   "metadata": {},
   "outputs": [],
   "source": [
    "test_mae(df_feature)"
   ]
  },
  {
   "cell_type": "code",
   "execution_count": null,
   "id": "3426f9f0",
   "metadata": {},
   "outputs": [],
   "source": [
    "test_mae(df_feature.drop([\"One_day\", \"20_50\"], axis=1))"
   ]
  },
  {
   "cell_type": "code",
   "execution_count": null,
   "id": "ca4fee17",
   "metadata": {},
   "outputs": [],
   "source": [
    "# didn't improve MAE\n",
    "df_feature = df_feature.drop([\"One_day\", \"20_50\", \"2_19\"], axis=1)"
   ]
  },
  {
   "cell_type": "code",
   "execution_count": null,
   "id": "322ed153",
   "metadata": {},
   "outputs": [],
   "source": [
    "cut_labels = ['before_20', 'after_20']\n",
    "cut_bins = [0, 19, 60]\n",
    "\n",
    "df['duration_binning'] = pd.cut(df['duration'], bins=cut_bins, labels=cut_labels)\n",
    "df[[\"duration_binning\", \"duration\"]]"
   ]
  },
  {
   "cell_type": "code",
   "execution_count": null,
   "id": "f8743214",
   "metadata": {},
   "outputs": [],
   "source": [
    "df[[\"duration_binning\", \"duration\"]].sample(5)"
   ]
  },
  {
   "cell_type": "code",
   "execution_count": null,
   "id": "f9e3ee94",
   "metadata": {},
   "outputs": [],
   "source": [
    "df_feature[\"duration_binning\"] = df[\"duration_binning\"]\n",
    "\n",
    "dummies = pd.get_dummies(df_feature['duration_binning'])\n",
    "df_feature = pd.concat([df_feature, dummies],axis=1)\n",
    "df_feature = df_feature.drop([\"duration_binning\"],axis=1)\n",
    "df_feature.head()"
   ]
  },
  {
   "cell_type": "code",
   "execution_count": null,
   "id": "28c2426f",
   "metadata": {},
   "outputs": [],
   "source": [
    "test_mae(df_feature)"
   ]
  },
  {
   "cell_type": "code",
   "execution_count": null,
   "id": "bcd12a3b",
   "metadata": {},
   "outputs": [],
   "source": [
    "df_feature = df_feature.drop(columns=cut_labels, axis=1)\n",
    "df_feature"
   ]
  },
  {
   "cell_type": "code",
   "execution_count": null,
   "id": "0de5aa19",
   "metadata": {},
   "outputs": [],
   "source": [
    "df[\"source_to_destinations\"] = df.source_city +\"_\"+ df.destination_city\n",
    "df.head()"
   ]
  },
  {
   "cell_type": "code",
   "execution_count": null,
   "id": "f8f222cc",
   "metadata": {},
   "outputs": [],
   "source": [
    "dummies = pd.get_dummies(df['source_to_destinations'])\n",
    "df_feature = pd.concat([df_feature, dummies],axis=1)\n",
    "df_feature.head()"
   ]
  },
  {
   "cell_type": "code",
   "execution_count": null,
   "id": "3ec35b6b",
   "metadata": {},
   "outputs": [],
   "source": [
    "test_mae(df_feature)"
   ]
  },
  {
   "attachments": {},
   "cell_type": "markdown",
   "id": "3ac78b39",
   "metadata": {},
   "source": [
    "# Let's try ANN"
   ]
  },
  {
   "cell_type": "code",
   "execution_count": null,
   "id": "1cd91609",
   "metadata": {},
   "outputs": [],
   "source": [
    "df_feature"
   ]
  },
  {
   "cell_type": "code",
   "execution_count": null,
   "id": "bed484a0",
   "metadata": {},
   "outputs": [],
   "source": [
    "import tensorflow as tf\n",
    "\n",
    "from tensorflow import keras\n",
    "from tensorflow.keras import layers\n",
    "\n",
    "def build_model(input_shape=34, output_shape=1, activation='relu', neuron_count=50):\n",
    "    model = keras.Sequential([\n",
    "        layers.Dense(neuron_count, activation=activation, input_shape=[input_shape]),\n",
    "        layers.Dense(neuron_count, activation=activation),\n",
    "        layers.Dense(neuron_count, activation=activation),\n",
    "        layers.Dense(neuron_count, activation=activation),\n",
    "        layers.Dense(neuron_count, activation=activation),\n",
    "        layers.Dense(output_shape)]\n",
    "        )\n",
    "\n",
    "    # if there is no activation fuction in dense layer. then it will return sum of (weight * features + bias)\n",
    "    optimizer = tf.keras.optimizers.RMSprop(0.0001)\n",
    "\n",
    "    model.compile(loss='mse',\n",
    "                  optimizer=optimizer,\n",
    "                  metrics=['mae', 'mse'])\n",
    "    return model"
   ]
  },
  {
   "cell_type": "code",
   "execution_count": null,
   "id": "e3674013",
   "metadata": {},
   "outputs": [],
   "source": [
    "\n",
    "def test_ann(df, activation):\n",
    "    X = df.copy()\n",
    "    y = X.pop(\"price\")\n",
    "    x_train,x_test,y_train,y_test = train_test_split(X, y, random_state=1,\n",
    "                                                    test_size=0.3, shuffle=True)\n",
    "    EPOCHS = 10\n",
    "    # model build\n",
    "    input_shape = x_train.shape[1]\n",
    "    print(input_shape)\n",
    "    model = build_model(input_shape= input_shape, activation=activation)\n",
    "    # model.summary()\n",
    "\n",
    "    # training and plot mse vs val_mse\n",
    "    history = model.fit(x_train, y_train, epochs=EPOCHS, validation_split = 0.1, verbose=1)\n",
    "    sns.lineplot(x= range(1, EPOCHS+1), y=history.history['mae'])\n",
    "    sns.lineplot(x=range(1, EPOCHS+1), y=history.history['val_mae'])\n",
    "    plt.show()\n",
    "\n",
    "    # evaluation\n",
    "    loss, mae, mse = model.evaluate(x_test, y_test, verbose=0)\n",
    "    print(\"Testing set Mean Abs Error: {:5.2f} rupee\".format(mae))"
   ]
  },
  {
   "cell_type": "code",
   "execution_count": null,
   "id": "7421d9c0",
   "metadata": {},
   "outputs": [],
   "source": [
    "# relu, leaky_relu, tanh, swish\n",
    "test_ann(df_feature, 'swish')\n",
    "test_ann(df_feature, 'relu')\n",
    "test_ann(df_feature, 'leaky_relu')"
   ]
  },
  {
   "cell_type": "code",
   "execution_count": null,
   "id": "e0d217cf",
   "metadata": {},
   "outputs": [],
   "source": [
    "test_ann(df_feature, 'relu')"
   ]
  },
  {
   "attachments": {},
   "cell_type": "markdown",
   "id": "17164899",
   "metadata": {},
   "source": [
    "# Outlier"
   ]
  },
  {
   "cell_type": "code",
   "execution_count": null,
   "id": "55d97cdd",
   "metadata": {},
   "outputs": [],
   "source": [
    "# df_feature.head()\n",
    "df_feature['class'].unique()"
   ]
  },
  {
   "cell_type": "code",
   "execution_count": null,
   "id": "24dead00",
   "metadata": {},
   "outputs": [],
   "source": [
    "price = df_feature[df_feature['class'] == 0].price\n",
    "lower_limit = price.mean() - 3*price.std()\n",
    "upper_limit = price.mean() + 3*price.std()\n",
    "print(\"economy: \")\n",
    "print(lower_limit)\n",
    "print(upper_limit)\n",
    "cls_eco = df_feature[(df_feature['class'] == 0) &\n",
    "                     (df_feature['price'] >= lower_limit) &\n",
    "                     (df_feature['price'] <= upper_limit)].index\n",
    "\n",
    "\n",
    "price = df_feature[df_feature['class'] == 1].price\n",
    "lower_limit = price.mean() - 3*price.std()\n",
    "upper_limit = price.mean() + 3*price.std()\n",
    "print(\"Business:\")\n",
    "print(lower_limit)\n",
    "print(upper_limit)\n",
    "\n",
    "cls_bsn = df_feature[(df_feature['class'] == 1) &\n",
    "                     (df_feature['price'] >= lower_limit) &\n",
    "                     (df_feature['price'] <= upper_limit)].index"
   ]
  },
  {
   "cell_type": "code",
   "execution_count": null,
   "id": "b1abcf40",
   "metadata": {},
   "outputs": [],
   "source": [
    "df.price.max()"
   ]
  },
  {
   "cell_type": "code",
   "execution_count": null,
   "id": "1a4c3031",
   "metadata": {},
   "outputs": [],
   "source": [
    "cls_eco, cls_bsn"
   ]
  },
  {
   "cell_type": "code",
   "execution_count": null,
   "id": "52d9f4ac",
   "metadata": {},
   "outputs": [],
   "source": [
    "idx = np.concatenate((cls_eco, cls_bsn))\n",
    "len(idx)"
   ]
  },
  {
   "cell_type": "code",
   "execution_count": null,
   "id": "bda8ded8",
   "metadata": {},
   "outputs": [],
   "source": [
    "df.shape[0] -len(idx)"
   ]
  },
  {
   "cell_type": "code",
   "execution_count": null,
   "id": "86184bc8",
   "metadata": {},
   "outputs": [],
   "source": [
    "df_feature.iloc[idx]"
   ]
  },
  {
   "cell_type": "code",
   "execution_count": null,
   "id": "fcb41308",
   "metadata": {},
   "outputs": [],
   "source": [
    "test_mae(df_feature.iloc[idx])"
   ]
  },
  {
   "cell_type": "code",
   "execution_count": null,
   "id": "7995a241",
   "metadata": {},
   "outputs": [],
   "source": [
    "test_mae(df_feature.iloc[cls_eco])"
   ]
  },
  {
   "cell_type": "code",
   "execution_count": null,
   "id": "95148485",
   "metadata": {},
   "outputs": [],
   "source": [
    "test_mae(df_feature.iloc[cls_bsn])"
   ]
  },
  {
   "cell_type": "code",
   "execution_count": null,
   "id": "fd55b953",
   "metadata": {},
   "outputs": [],
   "source": [
    "test_ann(df_feature.iloc[idx], 'relu')\n"
   ]
  },
  {
   "attachments": {},
   "cell_type": "markdown",
   "id": "17f56647",
   "metadata": {},
   "source": [
    "# Make decisions"
   ]
  },
  {
   "cell_type": "code",
   "execution_count": null,
   "id": "451db46c",
   "metadata": {},
   "outputs": [],
   "source": []
  }
 ],
 "metadata": {
  "kernelspec": {
   "display_name": "Python 3",
   "language": "python",
   "name": "python3"
  },
  "language_info": {
   "codemirror_mode": {
    "name": "ipython",
    "version": 3
   },
   "file_extension": ".py",
   "mimetype": "text/x-python",
   "name": "python",
   "nbconvert_exporter": "python",
   "pygments_lexer": "ipython3",
   "version": "3.8.6"
  },
  "papermill": {
   "default_parameters": {},
   "duration": 4153.666314,
   "end_time": "2022-09-04T16:48:24.197822",
   "environment_variables": {},
   "exception": null,
   "input_path": "__notebook__.ipynb",
   "output_path": "__notebook__.ipynb",
   "parameters": {},
   "start_time": "2022-09-04T15:39:10.531508",
   "version": "2.3.4"
  }
 },
 "nbformat": 4,
 "nbformat_minor": 5
}
