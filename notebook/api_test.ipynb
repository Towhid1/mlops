{
 "cells": [
  {
   "cell_type": "code",
   "execution_count": 1,
   "metadata": {},
   "outputs": [],
   "source": [
    "import requests\n",
    "import json"
   ]
  },
  {
   "cell_type": "code",
   "execution_count": 2,
   "metadata": {},
   "outputs": [
    {
     "name": "stdout",
     "output_type": "stream",
     "text": [
      "200\n",
      "{\"message\":\"api active!\"}\n",
      "\n"
     ]
    }
   ],
   "source": [
    "# Test the health endpoint\n",
    "health_url = 'http://127.0.0.1/health'\n",
    "health_response = requests.get(health_url)\n",
    "\n",
    "print(health_response.status_code)\n",
    "print(health_response.text)"
   ]
  },
  {
   "cell_type": "code",
   "execution_count": 7,
   "metadata": {},
   "outputs": [
    {
     "name": "stdout",
     "output_type": "stream",
     "text": [
      "{'model_uuid': '3068c98f9ca447d78f7b250b743755d4', 'prediction': 4293.0, 'run_id': '68335b098ea84607a67f2efb67198643', 'utc_time_created': '2023-10-07 10:56:20.892022'}\n"
     ]
    }
   ],
   "source": [
    "# Define the server URL\n",
    "server_url = 'http://127.0.0.1/api/v1'\n",
    "feature_len = 34\n",
    "\n",
    "feature = [0.1 for i in range(feature_len)]\n",
    "\n",
    "# print(feature, len(feature))\n",
    "\n",
    "# Sample input data for prediction\n",
    "input_data = {\n",
    "    'features': feature # Replace with your actual input data\n",
    "}\n",
    "\n",
    "# Send a POST request to the server\n",
    "response = requests.post(server_url, json=input_data)\n",
    "\n",
    "# Check if the request was successful (status code 200)\n",
    "if response.status_code == 200:\n",
    "    # Parse the JSON response\n",
    "    data = response.json()\n",
    "    print(data)\n",
    "else:\n",
    "    print(response.text)"
   ]
  },
  {
   "cell_type": "code",
   "execution_count": null,
   "metadata": {},
   "outputs": [],
   "source": []
  }
 ],
 "metadata": {
  "kernelspec": {
   "display_name": "mlops_env",
   "language": "python",
   "name": "python3"
  },
  "language_info": {
   "codemirror_mode": {
    "name": "ipython",
    "version": 3
   },
   "file_extension": ".py",
   "mimetype": "text/x-python",
   "name": "python",
   "nbconvert_exporter": "python",
   "pygments_lexer": "ipython3",
   "version": "3.8.6"
  }
 },
 "nbformat": 4,
 "nbformat_minor": 2
}
